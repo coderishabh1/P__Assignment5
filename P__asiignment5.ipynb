{
 "cells": [
  {
   "cell_type": "markdown",
   "id": "c9762781-4289-4124-ab1c-504475c219ac",
   "metadata": {},
   "source": [
    "##Question 1\n"
   ]
  },
  {
   "cell_type": "code",
   "execution_count": null,
   "id": "732a85d4-02fa-4bbd-9131-a743f1b46bf6",
   "metadata": {},
   "outputs": [],
   "source": [
    "# defining a function to calculate LCM  \n",
    "def calculate_lcm(x, y):  \n",
    "    # selecting the greater number  \n",
    "    if x > y:  \n",
    "        greater = x  \n",
    "    else:  \n",
    "        greater = y  \n",
    "    while(True):  \n",
    "        if((greater % x == 0) and (greater % y == 0)):  \n",
    "            lcm = greater  \n",
    "            break  \n",
    "        greater += 1  \n",
    "    return lcm    \n",
    "  \n",
    "# taking input from users  \n",
    "num1 = int(input(\"Enter first number: \"))  \n",
    "num2 = int(input(\"Enter second number: \"))  \n",
    "# printing the result for the users  \n",
    "print(\"The L.C.M. of\", num1,\"and\", num2,\"is\", calculate_lcm(num1, num2))"
   ]
  },
  {
   "cell_type": "markdown",
   "id": "65845093-81ce-4559-bcd2-c81670865059",
   "metadata": {},
   "source": [
    "## Question 2"
   ]
  },
  {
   "cell_type": "code",
   "execution_count": 3,
   "id": "395c94a9-97cc-4eef-8f97-e9735d201b52",
   "metadata": {},
   "outputs": [
    {
     "name": "stdin",
     "output_type": "stream",
     "text": [
      "Enter the first number:  7\n",
      "Enter the second number:  5\n"
     ]
    },
    {
     "name": "stdout",
     "output_type": "stream",
     "text": [
      "First Number is:  7\n",
      "Second Number is:  5\n",
      "HCF of the numbers is:  1\n"
     ]
    }
   ],
   "source": [
    "a = int(input(\"Enter the first number: \"))\n",
    "b = int(input(\"Enter the second number: \"))\n",
    " \n",
    "HCF = 1\n",
    " \n",
    "for i in range(2,a+1):\n",
    "    if(a%i==0 and b%i==0):\n",
    "        HCF = i\n",
    " \n",
    "print(\"First Number is: \",a)\n",
    "print(\"Second Number is: \",b)\n",
    "print(\"HCF of the numbers is: \",HCF)"
   ]
  },
  {
   "cell_type": "markdown",
   "id": "f8cba097-7c8b-4f3b-8893-1c877a9eb0d7",
   "metadata": {},
   "source": [
    "##Ques3"
   ]
  },
  {
   "cell_type": "code",
   "execution_count": 11,
   "id": "459c6b34-06e6-43dd-bd23-6936ddb03abb",
   "metadata": {},
   "outputs": [
    {
     "name": "stdin",
     "output_type": "stream",
     "text": [
      " 105\n"
     ]
    },
    {
     "name": "stdout",
     "output_type": "stream",
     "text": [
      "Decimat of 105.0 if equal to binary is : 0b1101001\n"
     ]
    },
    {
     "name": "stdin",
     "output_type": "stream",
     "text": [
      " 2515\n"
     ]
    },
    {
     "name": "stdout",
     "output_type": "stream",
     "text": [
      "Decimat of 2515.0 if equal to binary is : 0x9d3\n"
     ]
    }
   ],
   "source": [
    "x = float (input())\n",
    "print(f\"Decimat of {x} if equal to binary is :\", bin(int(x)))\n",
    "y = float(input())\n",
    "print (f\"OXA of {y} if equal to HEX is :\", hex(int(y)))"
   ]
  },
  {
   "cell_type": "markdown",
   "id": "eb93353c-fb8f-438a-a9d6-7dd7bbc20cc5",
   "metadata": {},
   "source": [
    "##Question4"
   ]
  },
  {
   "cell_type": "code",
   "execution_count": 15,
   "id": "bab0f9c1-1309-4ea5-961a-e468d96aea5a",
   "metadata": {},
   "outputs": [
    {
     "name": "stdin",
     "output_type": "stream",
     "text": [
      " a\n"
     ]
    },
    {
     "name": "stdout",
     "output_type": "stream",
     "text": [
      "97\n"
     ]
    }
   ],
   "source": [
    "x = input()\n",
    "print (ord(x))"
   ]
  },
  {
   "cell_type": "markdown",
   "id": "386f2f22-d44c-4283-938e-7d96e295cbd9",
   "metadata": {},
   "source": [
    "##Question 5"
   ]
  },
  {
   "cell_type": "code",
   "execution_count": 17,
   "id": "c1e6abee-160e-41d3-b380-c4bc94bc8c5d",
   "metadata": {},
   "outputs": [
    {
     "name": "stdin",
     "output_type": "stream",
     "text": [
      " 5\n",
      " 4\n"
     ]
    },
    {
     "name": "stdout",
     "output_type": "stream",
     "text": [
      "5.0 + 4.0 is: 9.0\n",
      "5.0 - 4.0 is: 1.0\n",
      "5.0 * 4.0 is: 20.0\n",
      "5.0 / 4.0 is: 1.25\n"
     ]
    }
   ],
   "source": [
    "x = float(input())\n",
    "y = float(input())\n",
    "print(f\"{x} + {y} is:\",(x+y))\n",
    "print(f\"{x} - {y} is:\",(x-y))\n",
    "print(f\"{x} * {y} is:\",(x*y))\n",
    "print(f\"{x} / {y} is:\",(x/y))"
   ]
  },
  {
   "cell_type": "code",
   "execution_count": null,
   "id": "70a71296-84c1-4209-92ec-30e9e0e34042",
   "metadata": {},
   "outputs": [],
   "source": []
  }
 ],
 "metadata": {
  "kernelspec": {
   "display_name": "Python 3 (ipykernel)",
   "language": "python",
   "name": "python3"
  },
  "language_info": {
   "codemirror_mode": {
    "name": "ipython",
    "version": 3
   },
   "file_extension": ".py",
   "mimetype": "text/x-python",
   "name": "python",
   "nbconvert_exporter": "python",
   "pygments_lexer": "ipython3",
   "version": "3.10.6"
  }
 },
 "nbformat": 4,
 "nbformat_minor": 5
}
